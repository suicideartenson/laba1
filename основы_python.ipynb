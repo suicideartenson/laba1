{
  "cells": [
    {
      "cell_type": "markdown",
      "metadata": {
        "id": "M-DGa20PaHnu"
      },
      "source": [
        "#Задача 1\n",
        "Написать функцию на вход которой подается строка, состоящая из латинских букв.\n",
        "Функция должна вернуть количество гласных букв (a, e, i, o, u) в этой строке. Написать тесты для кода"
      ]
    },
    {
      "cell_type": "code",
      "execution_count": 2,
      "metadata": {
        "id": "XvX8X_JJ6PCb"
      },
      "outputs": [
        {
          "name": "stdout",
          "output_type": "stream",
          "text": [
            "Все тесты пройдены!\n"
          ]
        }
      ],
      "source": [
        "def count_vowels(s: str) -> int:\n",
        "    # Приводим строку к нижнему регистру для удобства сравнения\n",
        "    s = s.lower()\n",
        "    # Список гласных букв\n",
        "    vowels = {'a', 'e', 'i', 'o', 'u'}\n",
        "    # Возвращаем количество гласных в строке\n",
        "    return sum(1 for char in s if char in vowels)\n",
        "\n",
        "def test_count_vowels():\n",
        "    # Тест 1: обычная строка\n",
        "    assert count_vowels(\"Hello World\") == 3, \"Ошибка в тесте 1\"\n",
        "\n",
        "    # Тест 2: строка без гласных\n",
        "    assert count_vowels(\"bcdfgh\") == 0, \"Ошибка в тесте 2\"\n",
        "\n",
        "    # Тест 3: строка только с гласными\n",
        "    assert count_vowels(\"aeiou\") == 5, \"Ошибка в тесте 3\"\n",
        "\n",
        "    # Тест 4: строка с заглавными буквами\n",
        "    assert count_vowels(\"AEIOU\") == 5, \"Ошибка в тесте 4\"\n",
        "\n",
        "    # Тест 5: пустая строка\n",
        "    assert count_vowels(\"\") == 0, \"Ошибка в тесте 5\"\n",
        "\n",
        "    # Тест 6: строка с повторяющимися буквами\n",
        "    assert count_vowels(\"abacadae\") == 5, \"Ошибка в тесте 6\"\n",
        "\n",
        "    print(\"Все тесты пройдены!\")\n",
        "\n",
        "# Запуск тестов\n",
        "test_count_vowels()\n"
      ]
    },
    {
      "cell_type": "markdown",
      "metadata": {
        "id": "t2ClV_Y0bbr6"
      },
      "source": [
        "# Задача 2\n",
        "Написать функцию на вход, которой подается строка. Функция должна вернуть true, если\n",
        "каждый символ в строке встречается только 1 раз, иначе должна вернуть false. Написать тесты для кода"
      ]
    },
    {
      "cell_type": "code",
      "execution_count": 4,
      "metadata": {
        "id": "FppbECao6VIz"
      },
      "outputs": [
        {
          "name": "stdout",
          "output_type": "stream",
          "text": [
            "Все тесты пройдены!\n"
          ]
        }
      ],
      "source": [
        "def is_unique(s: str) -> bool:\n",
        "    # Превращаем строку в множество и сравниваем его длину с длиной исходной строки\n",
        "    return len(s) == len(set(s))\n",
        "\n",
        "def test_is_unique():\n",
        "    # Тест 1: строка с уникальными символами\n",
        "    assert is_unique(\"abcdef\") == True, \"Ошибка в тесте 1\"\n",
        "\n",
        "    # Тест 2: строка с повторяющимися символами\n",
        "    assert is_unique(\"aabbcc\") == False, \"Ошибка в тесте 2\"\n",
        "\n",
        "    # Тест 3: строка с одним символом\n",
        "    assert is_unique(\"a\") == True, \"Ошибка в тесте 3\"\n",
        "\n",
        "    # Тест 4: пустая строка\n",
        "    assert is_unique(\"\") == True, \"Ошибка в тесте 4\"  # Пустая строка считается уникальной\n",
        "\n",
        "    # Тест 5: строка с заглавными и строчными буквами\n",
        "    assert is_unique(\"AaBbCc\") == True, \"Ошибка в тесте 5\"  # Разные регистры считаются уникальными символами\n",
        "\n",
        "    # Тест 6: строка с пробелами и символами\n",
        "    assert is_unique(\"abc def\") == True, \"Ошибка в тесте 6\"\n",
        "\n",
        "    print(\"Все тесты пройдены!\")\n",
        "\n",
        "# Запуск тестов\n",
        "test_is_unique()\n"
      ]
    },
    {
      "cell_type": "markdown",
      "metadata": {
        "id": "udRiIK1cdt6E"
      },
      "source": [
        "# Задача 3\n",
        "Написать функцию, которая принимает положительное число и возвращает количество\n",
        "бит равных 1 в этом числе. Написать тесты для кода"
      ]
    },
    {
      "cell_type": "code",
      "execution_count": 5,
      "metadata": {
        "id": "6tkfDJRz6dp_"
      },
      "outputs": [
        {
          "name": "stdout",
          "output_type": "stream",
          "text": [
            "Все тесты пройдены!\n"
          ]
        }
      ],
      "source": [
        "def count_bits(n: int) -> int:\n",
        "    # Превращаем число в двоичное представление и считаем количество единиц\n",
        "    return bin(n).count('1')\n",
        "\n",
        "def test_count_bits():\n",
        "    # Тест 1: Число 0, двоичное представление \"0\"\n",
        "    assert count_bits(0) == 0, \"Ошибка в тесте 1\"\n",
        "\n",
        "    # Тест 2: Число 1, двоичное представление \"1\"\n",
        "    assert count_bits(1) == 1, \"Ошибка в тесте 2\"\n",
        "\n",
        "    # Тест 3: Число 7, двоичное представление \"111\"\n",
        "    assert count_bits(7) == 3, \"Ошибка в тесте 3\"\n",
        "\n",
        "    # Тест 4: Число 1023, двоичное представление \"1111111111\"\n",
        "    assert count_bits(1023) == 10, \"Ошибка в тесте 4\"\n",
        "\n",
        "    # Тест 5: Число 16, двоичное представление \"10000\"\n",
        "    assert count_bits(16) == 1, \"Ошибка в тесте 5\"\n",
        "\n",
        "    # Тест 6: Число 255, двоичное представление \"11111111\"\n",
        "    assert count_bits(255) == 8, \"Ошибка в тесте 6\"\n",
        "\n",
        "    print(\"Все тесты пройдены!\")\n",
        "\n",
        "# Запуск тестов\n",
        "test_count_bits()\n"
      ]
    },
    {
      "cell_type": "markdown",
      "metadata": {
        "id": "26dDUz-Ae17N"
      },
      "source": [
        "# Задача 4\n",
        "Написать функцию, которая принимает положительное число. Функция должна вернуть то,\n",
        "сколько раз необходимо перемножать цифры числа или результат перемножения, чтобы\n",
        "получилось число состоящее из одной цифры.\n",
        "Например, для входного числа:\n",
        "· 39 функция должна вернуть 3, так как 3*9=27 => 2*7=14 => 1*4=4\n",
        "· 4 функция должна вернуть 0, так как число уже состоит из одной цифры\n",
        "· 999 функция должна вернуть 4, так как 9*9*9=729 => 7*2*9=126 => 1*2*6=12 =>\n",
        "1*2=2. Написать тесты для кода"
      ]
    },
    {
      "cell_type": "code",
      "execution_count": 7,
      "metadata": {
        "id": "BH1A_Mgi6i4G"
      },
      "outputs": [
        {
          "name": "stdout",
          "output_type": "stream",
          "text": [
            "Все тесты пройдены!\n"
          ]
        }
      ],
      "source": [
        "def persistence(n: int) -> int:\n",
        "    count = 0\n",
        "    # Пока число состоит из более чем одной цифры\n",
        "    while n >= 10:\n",
        "        product = 1\n",
        "        # Перемножаем все цифры числа\n",
        "        for digit in str(n):\n",
        "            product *= int(digit)\n",
        "        n = product\n",
        "        count += 1\n",
        "    return count\n",
        "\n",
        "def test_persistence():\n",
        "    # Тест 1: Число 39\n",
        "    assert persistence(39) == 3, \"Ошибка в тесте 1: 39 -> 27 -> 14 -> 4\"\n",
        "\n",
        "    # Тест 2: Число 4 (одна цифра)\n",
        "    assert persistence(4) == 0, \"Ошибка в тесте 2: 4 уже одна цифра\"\n",
        "\n",
        "    # Тест 3: Число 999\n",
        "    assert persistence(999) == 4, \"Ошибка в тесте 3: 999 -> 729 -> 126 -> 12 -> 2\"\n",
        "\n",
        "    # Тест 4: Число 25\n",
        "    assert persistence(25) == 2, \"Ошибка в тесте 4: 25 -> 10 -> 0\"\n",
        "\n",
        "    # Тест 5: Число 1 (одна цифра)\n",
        "    assert persistence(1) == 0, \"Ошибка в тесте 5: 1 уже одна цифра\"\n",
        "\n",
        "    # Тест 6: Число 10\n",
        "    assert persistence(10) == 1, \"Ошибка в тесте 6: 10 -> 0\"\n",
        "\n",
        "    print(\"Все тесты пройдены!\")\n",
        "\n",
        "# Запуск тестов\n",
        "test_persistence()\n",
        "\n"
      ]
    },
    {
      "cell_type": "markdown",
      "metadata": {
        "id": "0nS-kIa8g8vd"
      },
      "source": [
        "# Задача 5\n",
        "Написать функцию, которая принимает два целочисленных вектора одинаковой длины и\n",
        "возвращает среднеквадратическое отклонение двух векторов. Написать тесты для кода"
      ]
    },
    {
      "cell_type": "code",
      "execution_count": 11,
      "metadata": {
        "id": "8iphx4LM6xbx"
      },
      "outputs": [
        {
          "name": "stdout",
          "output_type": "stream",
          "text": [
            "Все тесты пройдены!\n"
          ]
        }
      ],
      "source": [
        "def mse(pred, true):\n",
        "    if len(pred) != len(true):\n",
        "        raise ValueError(\"Vectors must be of the same length\")\n",
        "    return sum((p - t) ** 2 for p, t in zip(pred, true)) / len(pred)\n",
        "\n",
        "def test_mse():\n",
        "    # Тест 1: идентичные вектора\n",
        "    pred = [1, 2, 3, 4, 5]\n",
        "    true = [1, 2, 3, 4, 5]\n",
        "    assert mse(pred, true) == 0, \"Ошибка в тесте 1: идентичные вектора\"\n",
        "\n",
        "    # Тест 2: разные вектора\n",
        "    pred = [1, 2, 3, 4, 5]\n",
        "    true = [2, 3, 4, 5, 6]\n",
        "    assert mse(pred, true) == 1, \"Ошибка в тесте 2: вектора отличаются на 1\"\n",
        "\n",
        "    # Тест 3: частично совпадающие вектора\n",
        "    pred = [0, 2, 3, 4, 6]\n",
        "    true = [1, 2, 3, 5, 5]\n",
        "    expected_result = (1**2 + 0**2 + 0**2 + 1**2 + 1**2) / 5\n",
        "    assert mse(pred, true) == expected_result, \"Ошибка в тесте 3\"\n",
        "\n",
        "    # Тест 4: разница в более сложных числах\n",
        "    pred = [10, 20, 30, 40, 50]\n",
        "    true = [12, 18, 33, 38, 55]\n",
        "    expected_result = ((10-12)**2 + (20-18)**2 + (30-33)**2 + (40-38)**2 + (50-55)**2) / 5\n",
        "    assert mse(pred, true) == expected_result, \"Ошибка в тесте 4\"\n",
        "\n",
        "    # Тест 5: проверка исключения для векторов разной длины\n",
        "    pred = [1, 2, 3]\n",
        "    true = [1, 2]\n",
        "    try:\n",
        "        mse(pred, true)\n",
        "        assert False, \"Ошибка в тесте 5: должно было выбросить исключение для векторов разной длины\"\n",
        "    except ValueError:\n",
        "        pass  # Ожидаемое поведение\n",
        "\n",
        "test_mse()\n",
        "print(\"Все тесты пройдены!\")\n",
        "\n",
        "\n"
      ]
    },
    {
      "cell_type": "markdown",
      "metadata": {
        "id": "vpIPKL439zkw"
      },
      "source": [
        "# Задача 6\n",
        "Написать функцию, принимающая целое положительное число. Функция должна вернуть\n",
        "строку вида “(n1**p1)(n2**p2)…(nk**pk)” представляющая разложение числа на простые\n",
        "множители (если pi == 1, то выводить только ni).\n",
        "Например, для числа 86240 функция должна вернуть “(2**5)(5)(7**2)(11)”. Написать тесты для кода"
      ]
    },
    {
      "cell_type": "code",
      "execution_count": 12,
      "metadata": {
        "id": "pFebmcZk94Jw"
      },
      "outputs": [
        {
          "name": "stdout",
          "output_type": "stream",
          "text": [
            "Все тесты пройдены!\n"
          ]
        }
      ],
      "source": [
        "def prime_factors(n):\n",
        "    i = 2\n",
        "    factors = {}\n",
        "    \n",
        "    # Разложение числа на простые множители\n",
        "    while i * i <= n:\n",
        "        while n % i == 0:\n",
        "            if i in factors:\n",
        "                factors[i] += 1\n",
        "            else:\n",
        "                factors[i] = 1\n",
        "            n //= i\n",
        "        i += 1\n",
        "    \n",
        "    if n > 1:\n",
        "        factors[n] = 1\n",
        "    \n",
        "    # Формирование строки с результатом\n",
        "    result = \"\"\n",
        "    for prime, power in sorted(factors.items()):\n",
        "        if power == 1:\n",
        "            result += f\"({prime})\"\n",
        "        else:\n",
        "            result += f\"({prime}**{power})\"\n",
        "    \n",
        "    return result\n",
        "\n",
        "def test_prime_factors():\n",
        "    # Тест 1: простое число\n",
        "    assert prime_factors(11) == \"(11)\", \"Ошибка в тесте 1: простое число\"\n",
        "    \n",
        "    # Тест 2: число, разложенное на простые множители\n",
        "    assert prime_factors(86240) == \"(2**5)(5)(7**2)(11)\", \"Ошибка в тесте 2: число 86240\"\n",
        "\n",
        "    # Тест 3: степенные множители\n",
        "    assert prime_factors(360) == \"(2**3)(3**2)(5)\", \"Ошибка в тесте 3: число 360\"\n",
        "    \n",
        "    # Тест 4: маленькое число\n",
        "    assert prime_factors(12) == \"(2**2)(3)\", \"Ошибка в тесте 4: число 12\"\n",
        "    \n",
        "    # Тест 5: число, равное степени одного простого числа\n",
        "    assert prime_factors(64) == \"(2**6)\", \"Ошибка в тесте 5: число 64\"\n",
        "    \n",
        "    # Тест 6: проверка числа 1 (особый случай)\n",
        "    assert prime_factors(1) == \"\", \"Ошибка в тесте 6: число 1 не имеет простых множителей\"\n",
        "\n",
        "test_prime_factors()\n",
        "print(\"Все тесты пройдены!\")\n"
      ]
    },
    {
      "cell_type": "markdown",
      "metadata": {
        "id": "ps2s0BudX7A2"
      },
      "source": [
        "# Задача 7\n",
        "Написать функцию, принимающая целое число n, задающее количество кубиков. Функция\n",
        "должна определить, можно ли из данного кол-ва кубиков построить пирамиду, то есть\n",
        "можно ли представить число n как 1^2+2^2+3^2+…+k^2. Если можно, то функция должна\n",
        "вернуть k, иначе строку “It is impossible”. Написать тесты для кода"
      ]
    },
    {
      "cell_type": "code",
      "execution_count": 16,
      "metadata": {
        "id": "3YPjEXxhX_YT"
      },
      "outputs": [
        {
          "name": "stdout",
          "output_type": "stream",
          "text": [
            "Все тестовые случаи пройдены!\n"
          ]
        }
      ],
      "source": [
        "def pyramid(n):\n",
        "    # Инициализируем переменные\n",
        "    k = 1  # Начальное значение k\n",
        "    sum_of_squares = 0  # Сумма квадратов\n",
        "\n",
        "    # Цикл для вычисления суммы квадратов\n",
        "    while sum_of_squares < n:\n",
        "        sum_of_squares += k ** 2  # Добавляем квадрат текущего k\n",
        "        if sum_of_squares == n:  # Проверяем, равна ли сумма n\n",
        "            return k  # Если равна, возвращаем k\n",
        "        k += 1  # Увеличиваем k для следующей итерации\n",
        "\n",
        "    return \"It is impossible\"  # Если сумма не равна n, возвращаем сообщение\n",
        "\n",
        "\n",
        "# Тесты для функции\n",
        "def test_pyramid():\n",
        "    # Проверяем различные случаи\n",
        "    assert pyramid(1) == 1, \"Тестовый случай 1 не прошел\"\n",
        "    assert pyramid(5) == 2, \"Тестовый случай 2 не прошел\"\n",
        "    assert pyramid(14) == 3, \"Тестовый случай 3 не прошел\"\n",
        "    assert pyramid(30) == 4, \"Тестовый случай 4 не прошел\"\n",
        "    assert pyramid(55) == 5, \"Тестовый случай 5 не прошел\"\n",
        "    assert pyramid(100) == \"It is impossible\", \"Тестовый случай 6 не прошел\"\n",
        "    assert pyramid(0) == \"It is impossible\", \"Тестовый случай 7 не прошел\"\n",
        "    assert pyramid(-5) == \"It is impossible\", \"Тестовый случай 8 не прошел\"\n",
        "\n",
        "    print(\"Все тестовые случаи пройдены!\")\n",
        "\n",
        "\n",
        "# Запуск тестов\n",
        "test_pyramid()\n",
        "\n"
      ]
    },
    {
      "cell_type": "markdown",
      "metadata": {
        "id": "KeKgmIdAQMEJ"
      },
      "source": [
        "# Задача 8\n",
        "Функция принимает на вход положительное число и определяет является ли оно сбалансированным, т.е. сумма цифр до средних равна сумме цифр после. Средними в случае нечетного числа цифр считать одну цифру, в случае четного - две средних. Написать тесты для кода"
      ]
    },
    {
      "cell_type": "code",
      "execution_count": 6,
      "metadata": {},
      "outputs": [
        {
          "name": "stdout",
          "output_type": "stream",
          "text": [
            "All tests passed!\n"
          ]
        }
      ],
      "source": [
        "def is_balanced_number(number):\n",
        "    num_str = str(number)\n",
        "    length = len(num_str)\n",
        "    \n",
        "    if length % 2 == 0:\n",
        "        mid = length // 2\n",
        "        left_sum = sum(map(int, num_str[:mid]))\n",
        "        right_sum = sum(map(int, num_str[mid:]))\n",
        "    else:\n",
        "        mid = length // 2\n",
        "        left_sum = sum(map(int, num_str[:mid]))\n",
        "        right_sum = sum(map(int, num_str[mid+1:]))\n",
        "    \n",
        "    return left_sum == right_sum\n",
        "\n",
        "# Тесты\n",
        "def test_is_balanced_number():\n",
        "    assert is_balanced_number(121) == True\n",
        "    assert is_balanced_number(1234) == False\n",
        "    assert is_balanced_number(12321) == True\n",
        "    assert is_balanced_number(123456) == False\n",
        "    assert is_balanced_number(1234321) == True\n",
        "\n",
        "if __name__ == \"__main__\":\n",
        "    test_is_balanced_number()\n",
        "    print(\"All tests passed!\")\n",
        "\n"
      ]
    }
  ],
  "metadata": {
    "colab": {
      "provenance": []
    },
    "kernelspec": {
      "display_name": "Python 3",
      "name": "python3"
    },
    "language_info": {
      "codemirror_mode": {
        "name": "ipython",
        "version": 3
      },
      "file_extension": ".py",
      "mimetype": "text/x-python",
      "name": "python",
      "nbconvert_exporter": "python",
      "pygments_lexer": "ipython3",
      "version": "3.11.0"
    }
  },
  "nbformat": 4,
  "nbformat_minor": 0
}
